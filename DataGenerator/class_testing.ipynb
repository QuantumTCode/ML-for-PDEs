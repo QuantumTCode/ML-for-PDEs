{
 "cells": [
  {
   "cell_type": "code",
   "execution_count": 5,
   "metadata": {},
   "outputs": [],
   "source": [
    "import numpy as np\n",
    "import random\n",
    "import os.path\n",
    "import pickle as pkl\n",
    "import torch"
   ]
  },
  {
   "cell_type": "code",
   "execution_count": 6,
   "metadata": {},
   "outputs": [],
   "source": [
    "n=10\n",
    "m=10\n",
    "\n",
    "x_max=np.pi\n",
    "x_min=0.0\n",
    "num_x=30 \n",
    "\n",
    "y_max=np.pi*2\n",
    "y_min=0.0\n",
    "num_y=30\n",
    "\n",
    "T_max=1000.0\n",
    "beta=5000.0\n",
    "\n",
    "IC=200\n",
    "train_cnt=0.75"
   ]
  },
  {
   "cell_type": "code",
   "execution_count": 7,
   "metadata": {},
   "outputs": [],
   "source": [
    "dx = (x_max - x_min)/num_x\n",
    "dy = (y_max - y_min)/num_y"
   ]
  },
  {
   "cell_type": "code",
   "execution_count": 57,
   "metadata": {},
   "outputs": [],
   "source": [
    "x = np.append([np.arange(x_min,x_max,dx)],[x_max])\n",
    "\n",
    "x_range = x.shape[0]\n",
    "x = np.expand_dims(x, axis=0)\n",
    "x = np.repeat(x,IC,axis=0)\n",
    "x = np.expand_dims(x,axis=2)\n",
    "c = np.zeros((IC, n))\n",
    "\n",
    "for seed in range(1,IC+1,1):\n",
    "    np.random.seed(seed)\n",
    "    c[seed-1] = np.random.normal(0.0,1.0,n)"
   ]
  },
  {
   "cell_type": "code",
   "execution_count": 10,
   "metadata": {},
   "outputs": [],
   "source": [
    "x = np.append([np.arange(x_min,x_max,dx)],[x_max])\n",
    "x_range = x.shape[0]\n",
    "\n",
    "y = np.append([np.arange(y_min,y_max,dy)],[y_max])\n",
    "y_range = y.shape[0]\n",
    "\n",
    "\n",
    "data = np.stack((x,y),axis=0)\n",
    "\n",
    "data = np.expand_dims(data, axis=0)\n",
    "data = np.repeat(data,IC,axis=0)\n",
    "data = np.expand_dims(data,axis=3)\n",
    "        \n",
    "c = np.zeros((IC, n, m))"
   ]
  },
  {
   "cell_type": "code",
   "execution_count": 56,
   "metadata": {},
   "outputs": [
    {
     "ename": "ValueError",
     "evalue": "could not broadcast input array from shape (10,10) into shape (10)",
     "output_type": "error",
     "traceback": [
      "\u001b[0;31m---------------------------------------------------------------------------\u001b[0m",
      "\u001b[0;31mValueError\u001b[0m                                Traceback (most recent call last)",
      "\u001b[0;32m<ipython-input-56-859005f28d0c>\u001b[0m in \u001b[0;36m<module>\u001b[0;34m\u001b[0m\n\u001b[1;32m      1\u001b[0m \u001b[0;32mfor\u001b[0m \u001b[0mseed\u001b[0m \u001b[0;32min\u001b[0m \u001b[0mrange\u001b[0m\u001b[0;34m(\u001b[0m\u001b[0;36m1\u001b[0m\u001b[0;34m,\u001b[0m\u001b[0mIC\u001b[0m\u001b[0;34m+\u001b[0m\u001b[0;36m1\u001b[0m\u001b[0;34m,\u001b[0m\u001b[0;36m1\u001b[0m\u001b[0;34m)\u001b[0m\u001b[0;34m:\u001b[0m\u001b[0;34m\u001b[0m\u001b[0;34m\u001b[0m\u001b[0m\n\u001b[1;32m      2\u001b[0m     \u001b[0mnp\u001b[0m\u001b[0;34m.\u001b[0m\u001b[0mrandom\u001b[0m\u001b[0;34m.\u001b[0m\u001b[0mseed\u001b[0m\u001b[0;34m(\u001b[0m\u001b[0mseed\u001b[0m\u001b[0;34m)\u001b[0m\u001b[0;34m\u001b[0m\u001b[0;34m\u001b[0m\u001b[0m\n\u001b[0;32m----> 3\u001b[0;31m     \u001b[0mc\u001b[0m\u001b[0;34m[\u001b[0m\u001b[0mseed\u001b[0m\u001b[0;34m-\u001b[0m\u001b[0;36m1\u001b[0m\u001b[0;34m]\u001b[0m \u001b[0;34m=\u001b[0m \u001b[0mnp\u001b[0m\u001b[0;34m.\u001b[0m\u001b[0mrandom\u001b[0m\u001b[0;34m.\u001b[0m\u001b[0mnormal\u001b[0m\u001b[0;34m(\u001b[0m\u001b[0;36m0.0\u001b[0m\u001b[0;34m,\u001b[0m\u001b[0;36m1.0\u001b[0m\u001b[0;34m,\u001b[0m\u001b[0;34m(\u001b[0m\u001b[0mn\u001b[0m\u001b[0;34m,\u001b[0m\u001b[0mm\u001b[0m\u001b[0;34m)\u001b[0m\u001b[0;34m)\u001b[0m\u001b[0;34m\u001b[0m\u001b[0;34m\u001b[0m\u001b[0m\n\u001b[0m",
      "\u001b[0;31mValueError\u001b[0m: could not broadcast input array from shape (10,10) into shape (10)"
     ]
    }
   ],
   "source": [
    "for seed in range(1,IC+1,1):\n",
    "    np.random.seed(seed)\n",
    "    c[seed-1] = np.random.normal(0.0,1.0,(n,m))"
   ]
  },
  {
   "cell_type": "code",
   "execution_count": 58,
   "metadata": {},
   "outputs": [],
   "source": [
    "#Plain Data Gen\n",
    "dt=1.0"
   ]
  },
  {
   "cell_type": "code",
   "execution_count": 59,
   "metadata": {},
   "outputs": [
    {
     "data": {
      "text/plain": [
       "(200, 31, 1001)"
      ]
     },
     "execution_count": 59,
     "metadata": {},
     "output_type": "execute_result"
    }
   ],
   "source": [
    "data.shape"
   ]
  },
  {
   "cell_type": "code",
   "execution_count": 60,
   "metadata": {},
   "outputs": [],
   "source": [
    "t = np.arange(0.0,T_max+dt,dt)\n",
    "t_range = t.shape[0]\n",
    "t = np.expand_dims(t, axis=0)\n",
    "t = np.repeat(t,IC,axis=0)\n",
    "\n",
    "# U = np.zeros((IC,x_range,y_range, t_range))\n",
    "U = np.zeros((IC,x_range, t_range))\n",
    "\n",
    "t = np.expand_dims(t,axis=1)\n",
    "t = np.repeat(t,x_range,axis=1)\n",
    "# t = np.expand_dims(t,axis=1)\n",
    "# t = np.repeat(t,y_range,axis=1)\n",
    "\n",
    "# data = np.repeat(data,t_range,axis=3)\n",
    "data = np.repeat(x,t_range,axis=2)"
   ]
  },
  {
   "cell_type": "code",
   "execution_count": 47,
   "metadata": {},
   "outputs": [],
   "source": [
    "de= np.expand_dims(c[0,0],axis=(1,2,3))"
   ]
  },
  {
   "cell_type": "code",
   "execution_count": 61,
   "metadata": {},
   "outputs": [
    {
     "data": {
      "text/plain": [
       "(200, 31, 1001)"
      ]
     },
     "execution_count": 61,
     "metadata": {},
     "output_type": "execute_result"
    }
   ],
   "source": [
    "data.shape"
   ]
  },
  {
   "cell_type": "code",
   "execution_count": 62,
   "metadata": {},
   "outputs": [
    {
     "name": "stdout",
     "output_type": "stream",
     "text": [
      "(200, 31, 1001)\n",
      "(200, 31, 1001)\n",
      "(200, 31, 1001)\n",
      "(200, 31, 1001)\n",
      "(200, 31, 1001)\n",
      "(200, 31, 1001)\n",
      "(200, 31, 1001)\n",
      "(200, 31, 1001)\n",
      "(200, 31, 1001)\n",
      "(200, 31, 1001)\n",
      "(200, 31, 1001)\n",
      "(200, 31, 1001)\n",
      "(200, 31, 1001)\n",
      "(200, 31, 1001)\n",
      "(200, 31, 1001)\n",
      "(200, 31, 1001)\n",
      "(200, 31, 1001)\n",
      "(200, 31, 1001)\n",
      "(200, 31, 1001)\n",
      "(200, 31, 1001)\n",
      "(200, 31, 1001)\n",
      "(200, 31, 1001)\n",
      "(200, 31, 1001)\n",
      "(200, 31, 1001)\n"
     ]
    },
    {
     "ename": "KeyboardInterrupt",
     "evalue": "",
     "output_type": "error",
     "traceback": [
      "\u001b[0;31m---------------------------------------------------------------------------\u001b[0m",
      "\u001b[0;31mKeyboardInterrupt\u001b[0m                         Traceback (most recent call last)",
      "\u001b[0;32m<ipython-input-62-724dd54d309f>\u001b[0m in \u001b[0;36m<module>\u001b[0;34m\u001b[0m\n\u001b[1;32m     10\u001b[0m         \u001b[0mtemp_term\u001b[0m \u001b[0;34m=\u001b[0m \u001b[0mtemp_c\u001b[0m\u001b[0;34m*\u001b[0m\u001b[0mnp\u001b[0m\u001b[0;34m.\u001b[0m\u001b[0msin\u001b[0m\u001b[0;34m(\u001b[0m\u001b[0;34m(\u001b[0m\u001b[0mi\u001b[0m\u001b[0;34m+\u001b[0m\u001b[0;36m1\u001b[0m\u001b[0;34m)\u001b[0m\u001b[0;34m*\u001b[0m\u001b[0mdata\u001b[0m\u001b[0;34m)\u001b[0m\u001b[0;34m\u001b[0m\u001b[0;34m\u001b[0m\u001b[0m\n\u001b[1;32m     11\u001b[0m         \u001b[0mtemp\u001b[0m \u001b[0;34m=\u001b[0m \u001b[0mtemp_term\u001b[0m\u001b[0;34m*\u001b[0m\u001b[0mtemp_exp\u001b[0m\u001b[0;34m\u001b[0m\u001b[0;34m\u001b[0m\u001b[0m\n\u001b[0;32m---> 12\u001b[0;31m         \u001b[0mU\u001b[0m \u001b[0;34m+=\u001b[0m \u001b[0;34m(\u001b[0m\u001b[0;36m1.0\u001b[0m\u001b[0;34m/\u001b[0m\u001b[0mn\u001b[0m\u001b[0;34m)\u001b[0m\u001b[0;34m*\u001b[0m\u001b[0mtemp\u001b[0m\u001b[0;34m\u001b[0m\u001b[0;34m\u001b[0m\u001b[0m\n\u001b[0m",
      "\u001b[0;31mKeyboardInterrupt\u001b[0m: "
     ]
    }
   ],
   "source": [
    "for i in range(n):\n",
    "    for j in range(m):\n",
    "#         temp_c = np.expand_dims(c[0,0],axis=(1,2,3))\n",
    "#         temp_c = np.repeat(np.repeat(np.repeat(temp_c,x_range,axis=1),y_range,axis=2), t_range, axis=3)\n",
    "        temp_c = np.expand_dims(c[:,i],axis=(1,2))\n",
    "        temp_c = np.repeat(np.repeat(temp_c,x_range,axis=1), t_range, axis=2)\n",
    "        print(temp_c.shape)\n",
    "        print(data.shape)\n",
    "        temp_exp = np.exp(-((i+1)**2)/beta*t)\n",
    "        temp_term = temp_c*np.sin((i+1)*data)\n",
    "        temp = temp_term*temp_exp\n",
    "        U += (1.0/n)*temp"
   ]
  },
  {
   "cell_type": "code",
   "execution_count": null,
   "metadata": {},
   "outputs": [],
   "source": []
  }
 ],
 "metadata": {
  "kernelspec": {
   "display_name": "Python 3",
   "language": "python",
   "name": "python3"
  },
  "language_info": {
   "codemirror_mode": {
    "name": "ipython",
    "version": 3
   },
   "file_extension": ".py",
   "mimetype": "text/x-python",
   "name": "python",
   "nbconvert_exporter": "python",
   "pygments_lexer": "ipython3",
   "version": "3.8.3"
  }
 },
 "nbformat": 4,
 "nbformat_minor": 4
}
