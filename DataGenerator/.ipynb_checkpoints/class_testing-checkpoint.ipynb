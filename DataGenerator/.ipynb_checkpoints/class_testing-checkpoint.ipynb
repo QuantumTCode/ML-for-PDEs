{
 "cells": [
  {
   "cell_type": "code",
   "execution_count": 1,
   "metadata": {},
   "outputs": [],
   "source": [
    "import numpy as np\n",
    "import random\n",
    "import os.path\n",
    "import pickle as pkl\n",
    "import torch\n",
    "from tqdm.auto import trange"
   ]
  },
  {
   "cell_type": "code",
   "execution_count": 2,
   "metadata": {},
   "outputs": [],
   "source": [
    "n=3\n",
    "m=3\n",
    "\n",
    "x_max=np.pi\n",
    "x_min=0.0\n",
    "num_x=30 \n",
    "\n",
    "y_max=np.pi*2\n",
    "y_min=0.0\n",
    "num_y=30\n",
    "\n",
    "T_max=1000.0\n",
    "beta=5000.0\n",
    "\n",
    "IC=200\n",
    "train_cnt=0.75"
   ]
  },
  {
   "cell_type": "code",
   "execution_count": 3,
   "metadata": {},
   "outputs": [],
   "source": [
    "dx = (x_max - x_min)/num_x\n",
    "dy = (y_max - y_min)/num_y"
   ]
  },
  {
   "cell_type": "code",
   "execution_count": 4,
   "metadata": {},
   "outputs": [],
   "source": [
    "x = np.append([np.arange(x_min,x_max,dx)],[x_max])\n",
    "x_range = x.shape[0]\n",
    "\n",
    "y = np.append([np.arange(y_min,y_max,dy)],[y_max])\n",
    "y_range = y.shape[0]\n",
    "\n",
    "data = np.array([(i,j) for i in x for j in y]).reshape(31,31,2)\n",
    "\n",
    "data = np.expand_dims(data, axis=0)\n",
    "data = np.repeat(data,IC,axis=0)\n",
    "data = np.expand_dims(data,axis=4)\n",
    "        \n",
    "c = np.zeros((IC, n, m,2))"
   ]
  },
  {
   "cell_type": "code",
   "execution_count": 6,
   "metadata": {},
   "outputs": [],
   "source": [
    "for seed in range(1,IC+1,1):\n",
    "    np.random.seed(seed)\n",
    "    c[seed-1] = np.random.normal(0.0,1.0,(n,m,2))"
   ]
  },
  {
   "cell_type": "code",
   "execution_count": 7,
   "metadata": {},
   "outputs": [],
   "source": [
    "#Plain Data Gen\n",
    "dt=1.0"
   ]
  },
  {
   "cell_type": "code",
   "execution_count": 9,
   "metadata": {},
   "outputs": [],
   "source": [
    "t = np.arange(0.0,T_max+dt,dt)\n",
    "t_range = t.shape[0]\n",
    "t = np.expand_dims(t, axis=(0,1,2,3))\n",
    "t = np.repeat(t,IC,axis=0)\n",
    "\n",
    "U = np.zeros((IC,x_range,y_range, 2, t_range))\n",
    "\n",
    "t = np.repeat(t,x_range,axis=1)\n",
    "t = np.repeat(t,y_range,axis=2)\n",
    "t = np.repeat(t,2,axis=3)\n",
    "\n",
    "data = np.repeat(data,t_range,axis=4)"
   ]
  },
  {
   "cell_type": "code",
   "execution_count": null,
   "metadata": {},
   "outputs": [],
   "source": [
    "for i in trange(n):\n",
    "    for j in trange(m):\n",
    "        temp_c = np.expand_dims(c[:,i,j],axis=(1,2,4))\n",
    "        temp_c = np.repeat(np.repeat(np.repeat(temp_c,x_range,axis=1),y_range,axis=2), t_range, axis=4)\n",
    "        temp_exp = np.exp(t*-beta*((np.pi*i/x_max)**2)*(np.pi*j/y_max)**2)\n",
    "        temp_term = temp_c*np.sin((i*np.pi*data))\n",
    "        temp = temp_term*temp_exp\n",
    "        U += (1.0/n)*temp"
   ]
  },
  {
   "cell_type": "code",
   "execution_count": null,
   "metadata": {},
   "outputs": [],
   "source": []
  }
 ],
 "metadata": {
  "kernelspec": {
   "display_name": "Python 3",
   "language": "python",
   "name": "python3"
  },
  "language_info": {
   "codemirror_mode": {
    "name": "ipython",
    "version": 3
   },
   "file_extension": ".py",
   "mimetype": "text/x-python",
   "name": "python",
   "nbconvert_exporter": "python",
   "pygments_lexer": "ipython3",
   "version": "3.8.3"
  }
 },
 "nbformat": 4,
 "nbformat_minor": 4
}
