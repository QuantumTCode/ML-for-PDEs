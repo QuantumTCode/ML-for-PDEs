{
 "cells": [
  {
   "cell_type": "markdown",
   "metadata": {},
   "source": [
    "# This notebook gives an instruction of how to load the pretrained model"
   ]
  },
  {
   "cell_type": "markdown",
   "metadata": {},
   "source": [
    "## environment"
   ]
  },
  {
   "cell_type": "code",
   "execution_count": null,
   "metadata": {},
   "outputs": [],
   "source": [
    "import torch\n",
    "import numpy as np\n",
    "import sys\n",
    "import os\n",
    "torch.set_default_dtype(torch.float64)\n",
    "# setup gpu environment\n",
    "os.environ[\"CUDA_DEVICE_ORDER\"]=\"PCI_BUS_ID\"  \n",
    "os.environ[\"CUDA_VISIBLE_DEVICES\"]=\"0\"\n",
    "device = torch.device('cuda:0' if torch.cuda.is_available() else 'cpu')"
   ]
  },
  {
   "cell_type": "markdown",
   "metadata": {},
   "source": [
    "## get path"
   ]
  },
  {
   "cell_type": "code",
   "execution_count": null,
   "metadata": {},
   "outputs": [],
   "source": [
    "path = os.getcwd() \n",
    "parent_path = os.path.abspath(os.path.join(path, os.pardir))\n",
    "sys.path.append(parent_path)"
   ]
  },
  {
   "cell_type": "markdown",
   "metadata": {},
   "source": [
    "## load pretrained models"
   ]
  },
  {
   "cell_type": "code",
   "execution_count": null,
   "metadata": {},
   "outputs": [],
   "source": [
    "from Models.FDNET import fdnet\n",
    "from Models.FDNET_FORCE import fdnet_force\n",
    "\n",
    "# choose the case from the list\n",
    "CASE = ['/stable/','/unstable/','/midnoise/','/force/','/fdblock/','/fdfilter/']\n",
    "\n",
    "# taking the stable case as an example\n",
    "case = CASE[0]\n",
    "\n",
    "# choose networks\n",
    "if case == 'force':\n",
    "    DNN = 'fdnet_force'\n",
    "else:\n",
    "    DNN = 'fdnet'\n",
    "    \n",
    "xLen = 31 # spatial discretization\n",
    "inputlength = 1 # short-term evolution interval, i.e., from t to t+\\Delta t\n",
    "\n",
    "# number of FD-Blocks{}\n",
    "fb = 1\n",
    "# numer of FD-Filters{}\n",
    "fr = 16\n",
    "# random seed, choose between 0 and 9\n",
    "seed = 0\n",
    "\n",
    "\n",
    "# construct the network model\n",
    "model = getattr(sys.modules[__name__], DNN)(inputlength,fr,xLen).to(device)\n",
    "\n",
    "# load the model paramters -- TR\n",
    "algo = 'TR/'\n",
    "TRweight = torch.load(path+case+algo+'Seed%s_BS%s_FR%s_FB%s_BEST.tar' %(seed,64,fr,fb))['weight']\n",
    "for wi,mi in zip(TRweight,model.parameters()):\n",
    "    mi.data.set_(torch.tensor(wi).to(device))\n",
    "    \n",
    "# load the model paramters -- ADAM of 1e-3\n",
    "algo = 'Adam/'\n",
    "A3weight = torch.load(path+case+algo+'Seed%s_BS%s_FR%s_FB%s_LR%s_BEST.tar' %(seed,64,fr,fb,1e-3))['weight']\n",
    "for wi,mi in zip(A3weight,model.parameters()):\n",
    "    mi.data.set_(torch.tensor(wi).to(device))\n",
    "    \n",
    "# load the model paramters -- ADAM of 1e-4\n",
    "algo = 'Adam/'\n",
    "A4weight = torch.load(path+case+algo+'Seed%s_BS%s_FR%s_FB%s_LR%s_BEST.tar' %(seed,64,fr,fb,1e-4))['weight']\n",
    "for wi,mi in zip(A4weight,model.parameters()):\n",
    "    mi.data.set_(torch.tensor(wi).to(device))\n",
    "\n"
   ]
  },
  {
   "cell_type": "code",
   "execution_count": null,
   "metadata": {},
   "outputs": [],
   "source": [
    "exit(0)"
   ]
  },
  {
   "cell_type": "code",
   "execution_count": null,
   "metadata": {},
   "outputs": [],
   "source": []
  }
 ],
 "metadata": {
  "kernelspec": {
   "display_name": "Python 2 Anaconda",
   "language": "python",
   "name": "python2anaconda"
  },
  "language_info": {
   "codemirror_mode": {
    "name": "ipython",
    "version": 2
   },
   "file_extension": ".py",
   "mimetype": "text/x-python",
   "name": "python",
   "nbconvert_exporter": "python",
   "pygments_lexer": "ipython2",
   "version": "2.7.15"
  }
 },
 "nbformat": 4,
 "nbformat_minor": 2
}
