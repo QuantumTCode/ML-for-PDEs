{
 "cells": [
  {
   "cell_type": "markdown",
   "metadata": {},
   "source": [
    "# Train our networks with the TR method\n",
    "## content:\n",
    "### 1. training\n",
    "### 2. testing"
   ]
  },
  {
   "cell_type": "markdown",
   "metadata": {},
   "source": [
    "## environment "
   ]
  },
  {
   "cell_type": "code",
   "execution_count": null,
   "metadata": {},
   "outputs": [],
   "source": [
    "import os\n",
    "os.environ[\"CUDA_DEVICE_ORDER\"]=\"PCI_BUS_ID\" # fetch GPU id\n",
    "os.environ[\"CUDA_VISIBLE_DEVICES\"]=\"3\" # assign GPU\n",
    "import time\n",
    "import torch\n",
    "torch.set_num_threads(1) \n",
    "torch.set_default_dtype(torch.float64)\n",
    "from torch.jit import script, trace\n",
    "import torch.nn as nn\n",
    "from torch import optim\n",
    "import torch.nn.functional as F\n",
    "from torch.autograd import Variable\n",
    "import csv\n",
    "import random\n",
    "import re\n",
    "import os\n",
    "import unicodedata\n",
    "import codecs\n",
    "from io import open\n",
    "import itertools\n",
    "import math\n",
    "import pickle\n",
    "import numpy as np\n",
    "import matplotlib.pyplot as plt\n",
    "%matplotlib inline \n",
    "import matplotlib\n",
    "import matplotlib.pyplot\n",
    "import matplotlib.pyplot as plt\n",
    "%matplotlib inline\n",
    "import math\n",
    "import torch.optim as optim\n",
    "from tqdm import tqdm\n",
    "from torch.nn.parameter import Parameter\n",
    "import sys\n",
    "device = torch.device('cuda:0' if torch.cuda.is_available() else 'cpu')\n",
    "print device\n",
    "from collections import OrderedDict"
   ]
  },
  {
   "cell_type": "code",
   "execution_count": null,
   "metadata": {},
   "outputs": [],
   "source": [
    "path = os.getcwd() \n",
    "parent_path = os.path.abspath(os.path.join(path, os.pardir))\n",
    "sys.path.append(parent_path)"
   ]
  },
  {
   "cell_type": "markdown",
   "metadata": {},
   "source": [
    "# generate Data"
   ]
  },
  {
   "cell_type": "code",
   "execution_count": null,
   "metadata": {},
   "outputs": [],
   "source": [
    "from DataGenerator.DataGene import *\n",
    "n = 10\n",
    "x_max = np.pi\n",
    "x_min = 0.0\n",
    "num_x = 30\n",
    "T_max = 1000.0\n",
    "beta = 5000.0\n",
    "IC = 200\n",
    "generator = DataGene(device=device,n=n,x_max=x_max,x_min=x_min,num_x=num_x,T_max=T_max,beta=beta,IC=IC)\n",
    "\n",
    "# save data?\n",
    "save_data = 0\n",
    "\n",
    "# choose which case to run\n",
    "data_option = 0\n",
    "# 0 - stable\n",
    "# 1 - unstable\n",
    "# 2 - noise\n",
    "# 3 - forcing\n",
    "dt=1.0\n",
    "length = int(T_max/dt)\n",
    "if data_option == 0 or data_option ==1:\n",
    "    dataset, traindata, testdata = generator.Plain(dt)\n",
    "    # unstable case\n",
    "    if data_option == 1:\n",
    "        dt = 200 # larger delta t here\n",
    "        length = int(T_max/dt)\n",
    "        dt_list = [i for i in xrange(0,int(T_max+dt),int(dt))]\n",
    "        traindata = traindata[:,:,dt_list]\n",
    "        testdata = testdata[:,:,dt_list]\n",
    "    print dataset.shape, traindata.shape, testdata.shape\n",
    "if data_option == 2:\n",
    "    err_scale = 1e-4 # the level of noise \n",
    "    dataset, traindata, testdata = generator.Noise(dt,err_scale)\n",
    "    print dataset.shape, traindata.shape, testdata.shape\n",
    "if data_option == 3:\n",
    "    f_scale = 10.0\n",
    "    dataset, traindata, testdata = generator.Force(dt,f_scale)\n",
    "    print dataset.shape, traindata.shape, testdata.shape"
   ]
  },
  {
   "cell_type": "code",
   "execution_count": null,
   "metadata": {},
   "outputs": [],
   "source": [
    "# Save data if necessary\n",
    "if save_data == 1:\n",
    "    \n",
    "    savedata = OrderedDict()\n",
    "    \n",
    "    if data_option == 0 or data_option == 1:\n",
    "        datafile = 'case%s_dt%.2e.tar' % (data_option,dt)\n",
    "    if data_option == 2:\n",
    "        datafile = 'case%s_err%.2e_dt%.2e.tar' \\\n",
    "        % (data_option,err_scale,dt)\n",
    "    if data_option == 3:\n",
    "        datafile = 'case%s_force%.2e_dt%.2e.tar' \\\n",
    "        % (data_option,f_scale,dt)\n",
    "    \n",
    "    savedata = {\n",
    "        'data_option': data_option,\n",
    "        'data': dataset,\n",
    "        'train': traindata,\n",
    "        'test': testdata,\n",
    "    }\n",
    "    \n",
    "    torch.save(savedata,datafile)"
   ]
  },
  {
   "cell_type": "markdown",
   "metadata": {},
   "source": [
    "# Normalization"
   ]
  },
  {
   "cell_type": "code",
   "execution_count": null,
   "metadata": {},
   "outputs": [],
   "source": [
    "traindata[:,30,:]=0.0 \n",
    "testdata[:,30,:]=0.0\n",
    "traindata = traindata+1.0\n",
    "testdata = testdata+1.0\n"
   ]
  },
  {
   "cell_type": "markdown",
   "metadata": {},
   "source": [
    "# training dataset"
   ]
  },
  {
   "cell_type": "code",
   "execution_count": null,
   "metadata": {},
   "outputs": [],
   "source": [
    "x_train, y_train = generator.DataForTrain(traindata)\n",
    "print x_train.shape, y_train.shape\n",
    "print x_train[150:].shape,y_train[:-150].shape\n",
    "print torch.sum(torch.abs(x_train[150:] - y_train[:-150])).data.item()"
   ]
  },
  {
   "cell_type": "markdown",
   "metadata": {},
   "source": [
    "# testing dataset"
   ]
  },
  {
   "cell_type": "code",
   "execution_count": null,
   "metadata": {},
   "outputs": [],
   "source": [
    "# one step ahead prediction\n",
    "x_one, y_one = generator.DataForTest(testdata,1)\n",
    "\n",
    "# multi steps ahead prediction\n",
    "if data_option == 1:\n",
    "    multi_step = 3\n",
    "else:\n",
    "    multi_step = 10\n",
    "    \n",
    "x_mul, y_mul = generator.DataForTest(testdata,multi_step)\n",
    "\n",
    "# sequential prediction (1000-step prediction)\n",
    "x_sq, y_sq = generator.DataForTest(testdata,length)\n",
    "\n",
    "y_one = y_one-1.0\n",
    "y_mul = y_mul-1.0\n",
    "y_sq= y_sq-1.0"
   ]
  },
  {
   "cell_type": "markdown",
   "metadata": {},
   "source": [
    "# load model and optimizer"
   ]
  },
  {
   "cell_type": "code",
   "execution_count": null,
   "metadata": {},
   "outputs": [],
   "source": [
    "from Models.FDNET import fdnet\n",
    "from Models.FDNET_FORCE import fdnet_force\n",
    "from Optimizer.TRCG import TRCGOptimizer"
   ]
  },
  {
   "cell_type": "markdown",
   "metadata": {},
   "source": [
    "# Testing function"
   ]
  },
  {
   "cell_type": "code",
   "execution_count": null,
   "metadata": {},
   "outputs": [],
   "source": [
    "def testingFun(model,MSE,x,y,length,fb):\n",
    "    \n",
    "    y_pred = x\n",
    "    \n",
    "    with torch.no_grad():\n",
    "        for i in xrange(length):\n",
    "            y_pred = model(y_pred,fb)\n",
    "        y_pred=y_pred-1.0\n",
    "        mse_err = MSE(y_pred,y)\n",
    "        \n",
    "    return mse_err.data.item()"
   ]
  },
  {
   "cell_type": "markdown",
   "metadata": {},
   "source": [
    "# Train"
   ]
  },
  {
   "cell_type": "code",
   "execution_count": null,
   "metadata": {},
   "outputs": [],
   "source": [
    "# parameters and setup\n",
    "\n",
    "# training budget\n",
    "if data_option == 1:\n",
    "    Iter = 300 \n",
    "else:\n",
    "    Iter = 100\n",
    "    \n",
    "# Random Seeds\n",
    "Seeds = [0,1,2,3,4,5,6,7,8,9]\n",
    "\n",
    "# number of FD-Filters\n",
    "FDFilters = [16]\n",
    "\n",
    "# number of FD-Blocks\n",
    "if data_option == 1:\n",
    "    FDBlocks=[10]\n",
    "else:\n",
    "    FDBlocks=[1]\n",
    "# stochastic mini-batch size\n",
    "BatchSize = [64]\n",
    "\n",
    "# Trust Region initial radius\n",
    "radius_initial = 0.1\n",
    "\n",
    "# Spatial discretilization\n",
    "xLen = dataset.shape[1]\n",
    "\n",
    "# MSE function\n",
    "MSE = nn.MSELoss()\n",
    "\n",
    "if data_option != 3:\n",
    "    DNN = 'fdnet' \n",
    "else:\n",
    "    DNN = 'fdnet_force'"
   ]
  },
  {
   "cell_type": "code",
   "execution_count": null,
   "metadata": {
    "scrolled": false
   },
   "outputs": [],
   "source": [
    "for seed, BS, filters, fb in itertools.product(Seeds,BatchSize,FDFilters,FDBlocks):\n",
    "\n",
    "    CGITER = [0] # count how many CG iterations \n",
    "    Compute_Iter = [0] # count how many gradient and hessian-vector production computations\n",
    "    Compute_Iter2 = [0] # include cost for ratio test\n",
    "    Cnt_Compute = 0\n",
    "    Cnt_plus_ratio = 0\n",
    "    Loss = [] # recorder of training error\n",
    "    sqMSE = [] # recorder of 1000-step prediction error\n",
    "    oneMSE = [] # recorder of one-step prediction error\n",
    "    mulMSE = [] # recorder of multi-step prediction error\n",
    "\n",
    "    Rad = [radius_initial] # recorder of TR radius\n",
    "    \n",
    "    best_sqMSE = np.inf\n",
    "    \n",
    "    torch.manual_seed(seed) # set random seed\n",
    "    np.random.seed(seed)\n",
    "    \n",
    "    allSamples = range(x_train.shape[0])\n",
    "    np.random.shuffle(allSamples)\n",
    "    \n",
    "    model = getattr(sys.modules[__name__], DNN)(1,filters,xLen).to(device)\n",
    "    initial_sample = allSamples[0:BS]\n",
    "    \n",
    "    x_sample = x_train[initial_sample]\n",
    "    y_sample = y_train[initial_sample]\n",
    "    pred = model(x_sample,fb)\n",
    "    loss = MSE(pred,y_sample)\n",
    "    Loss.append(loss.data.item())\n",
    "    \n",
    "    one_mse = testingFun(model,MSE,x_one,y_one,1,fb)\n",
    "    \n",
    "    mul_mse = testingFun(model,MSE,x_mul,y_mul,multi_step,fb)\n",
    "    \n",
    "    sq_mse = testingFun(model,MSE,x_sq,y_sq,length,fb)\n",
    "    \n",
    "    sqMSE.append(sq_mse)\n",
    "    oneMSE.append(one_mse)\n",
    "    mulMSE.append(mul_mse)\n",
    "    \n",
    "\n",
    "    optimizer = TRCGOptimizer(model,device,radius_initial)\n",
    "    \n",
    "    print 'run: seed - %s, BS - %s, FD-Filters - %s, FD-Blocks - %s' %(seed,BS,filters,fb)\n",
    "    print 'it: 0, loss: %.2e, onemse: %.2e, mulmse: %.2e, sqmse: %.2e' \\\n",
    "          %(loss.data.item(),one_mse,mul_mse,sq_mse)\n",
    "    \n",
    "    for it in xrange(1,Iter+1):\n",
    "        \n",
    "        \n",
    "        rad, cnt_compute, cgiter = optimizer.step(loss,MSE,x_sample,y_sample,fb)\n",
    "        CGITER.append(cgiter)\n",
    "        \n",
    "        # pick a mini-batch\n",
    "        np.random.shuffle(allSamples)\n",
    "        sample = allSamples[0:BS]\n",
    "        \n",
    "        x_sample = x_train[sample]\n",
    "        y_sample = y_train[sample]\n",
    "        pred = model(x_sample,fb)\n",
    "        loss = MSE(pred,y_sample)\n",
    "        \n",
    "        Cnt_Compute+=cnt_compute\n",
    "        Cnt_plus_ratio = Cnt_plus_ratio + cnt_compute + 1\n",
    "        Compute_Iter.append(Cnt_Compute)\n",
    "        Compute_Iter2.append(Cnt_plus_ratio)\n",
    "        Rad.append(rad)\n",
    "        Loss.append(loss.data.item())\n",
    "                \n",
    "        if it%10==0:\n",
    "            one_mse= testingFun(model,MSE,x_one,y_one,1,fb)\n",
    "            oneMSE.append(one_mse)\n",
    "        \n",
    "            mul_mse = testingFun(model,MSE,x_mul,y_mul,multi_step,fb)\n",
    "            mulMSE.append(mul_mse)\n",
    "        \n",
    "            sq_mse = testingFun(model,MSE,x_sq,y_sq,length,fb)\n",
    "            sqMSE.append(sq_mse)\n",
    "            print 'it: %s, loss: %.2e, onemse: %.2e, mulmse: %.2e, sqmse: %.2e, cgiter: %s, cnt_compute: %s'\\\n",
    "            %(it,loss.data.item(),one_mse,mul_mse,sq_mse,cgiter,cnt_compute)"
   ]
  },
  {
   "cell_type": "code",
   "execution_count": null,
   "metadata": {},
   "outputs": [],
   "source": [
    "exit(0)"
   ]
  },
  {
   "cell_type": "code",
   "execution_count": null,
   "metadata": {},
   "outputs": [],
   "source": []
  }
 ],
 "metadata": {
  "kernelspec": {
   "display_name": "Python 2 Anaconda",
   "language": "python",
   "name": "python2anaconda"
  },
  "language_info": {
   "codemirror_mode": {
    "name": "ipython",
    "version": 2
   },
   "file_extension": ".py",
   "mimetype": "text/x-python",
   "name": "python",
   "nbconvert_exporter": "python",
   "pygments_lexer": "ipython2",
   "version": "2.7.15"
  }
 },
 "nbformat": 4,
 "nbformat_minor": 2
}
